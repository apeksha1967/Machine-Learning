{
 "cells": [
  {
   "cell_type": "code",
   "execution_count": 1,
   "metadata": {},
   "outputs": [],
   "source": [
    "import bs4\n",
    "import urllib.request as url"
   ]
  },
  {
   "cell_type": "code",
   "execution_count": 2,
   "metadata": {},
   "outputs": [
    {
     "name": "stdout",
     "output_type": "stream",
     "text": [
      "Enter The Name Of The Movie: Venom\n"
     ]
    }
   ],
   "source": [
    "movie = input(\"Enter The Name Of The Movie: \")"
   ]
  },
  {
   "cell_type": "code",
   "execution_count": 3,
   "metadata": {},
   "outputs": [],
   "source": [
    "movie_list = []\n",
    "if len(movie) != 1:\n",
    "    for i in movie:\n",
    "        if i==' ':\n",
    "            movie_list.append('+')\n",
    "        else:\n",
    "            movie_list.append(i)\n",
    "    movie = ''.join(movie_list)\n",
    "else:\n",
    "    pass"
   ]
  },
  {
   "cell_type": "code",
   "execution_count": 4,
   "metadata": {},
   "outputs": [],
   "source": [
    "URL = 'https://www.imdb.com/find?ref_=nv_sr_fn&q=' + movie + '&s=all'\n",
    "http = url.urlopen(URL)\n",
    "page = bs4.BeautifulSoup(http)"
   ]
  },
  {
   "cell_type": "code",
   "execution_count": 5,
   "metadata": {},
   "outputs": [],
   "source": [
    "td_tag = page.find('td', class_ = 'result_text')\n",
    "a_tage = td_tag.find('a')"
   ]
  },
  {
   "cell_type": "code",
   "execution_count": 6,
   "metadata": {},
   "outputs": [],
   "source": [
    "Newurl = 'https://www.imdb.com' + a_tage['href'] + '?ref_=fn_al_tt_1'\n",
    "http_1 = url.urlopen(Newurl)\n",
    "page_1 = bs4.BeautifulSoup(http_1)\n",
    "div = page_1.find('div', class_ = 'titleReviewBarItem titleReviewbarItemBorder')\n",
    "a_tag = div.find_all('a')[0]"
   ]
  },
  {
   "cell_type": "code",
   "execution_count": 7,
   "metadata": {},
   "outputs": [],
   "source": [
    "#First Review of the Movie\n",
    "Newurl_1 = 'https://www.imdb.com' + a_tage['href'] + a_tag['href'] + '?ref_=tt_ov_rt'\n",
    "http_2 = url.urlopen(Newurl_1)\n",
    "page_2 = bs4.BeautifulSoup(http_2)\n",
    "div_2 = page_2.find('div', class_ = 'lister-item-content')\n",
    "a_tag_2 = div_2.find_all('a')[0]"
   ]
  },
  {
   "cell_type": "code",
   "execution_count": 8,
   "metadata": {},
   "outputs": [],
   "source": [
    "#To Find The Rating of The Movie\n",
    "Rate = page_1.find('div', class_ = 'ratingValue')\n",
    "Rating = Rate.find('span').text"
   ]
  },
  {
   "cell_type": "code",
   "execution_count": 9,
   "metadata": {},
   "outputs": [
    {
     "name": "stdout",
     "output_type": "stream",
     "text": [
      "Director:['Ruben Fleischer']\n",
      "Writers:['Jeff Pinkner', 'Scott Rosenberg']\n",
      "Actors:['Tom Hardy', 'Michelle Williams', 'Riz Ahmed']\n",
      "Rating of the movie \"Venom\" according to IMDB: 6.7\n",
      "First review of the movie:  Very fun movie\n",
      "\n"
     ]
    }
   ],
   "source": [
    "#Cast Of the Movie\n",
    "Cast = page_1.find_all('div', class_ = 'credit_summary_item')\n",
    "Stars = []\n",
    "for i in Cast:\n",
    "    Stars.append(i.find_all('a'))\n",
    "\n",
    "k = 0\n",
    "Director = []\n",
    "Writers = []\n",
    "Stars_ = []\n",
    "for i in Stars:\n",
    "    for j in i:\n",
    "        if k == 0:\n",
    "            Director.append(j.text)\n",
    "        elif k == 1:\n",
    "            Writers.append(j.text)\n",
    "        else:\n",
    "            Stars_.append(j.text)\n",
    "    k = k + 1 \n",
    "print('Director:{}'.format(Director))\n",
    "print('Writers:{}'.format(Writers[0:-1]))\n",
    "print('Actors:{}'.format(Stars_[0:-1]))\n",
    "print('Rating of the movie \"{}\" according to IMDB: {}'.format(movie, Rating))\n",
    "print('First review of the movie:',a_tag_2.text)"
   ]
  },
  {
   "cell_type": "code",
   "execution_count": null,
   "metadata": {},
   "outputs": [],
   "source": []
  }
 ],
 "metadata": {
  "kernelspec": {
   "display_name": "Python 3",
   "language": "python",
   "name": "python3"
  },
  "language_info": {
   "codemirror_mode": {
    "name": "ipython",
    "version": 3
   },
   "file_extension": ".py",
   "mimetype": "text/x-python",
   "name": "python",
   "nbconvert_exporter": "python",
   "pygments_lexer": "ipython3",
   "version": "3.7.3"
  }
 },
 "nbformat": 4,
 "nbformat_minor": 2
}

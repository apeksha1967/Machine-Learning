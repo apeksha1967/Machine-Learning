{
 "cells": [
  {
   "cell_type": "code",
   "execution_count": 1,
   "metadata": {},
   "outputs": [],
   "source": [
    "import pandas as pd\n",
    "import numpy as np\n",
    "import matplotlib.pyplot as plt"
   ]
  },
  {
   "cell_type": "code",
   "execution_count": 2,
   "metadata": {},
   "outputs": [],
   "source": [
    "train_data = pd.read_csv('train.csv')\n",
    "test_data = pd.read_csv('test.csv')"
   ]
  },
  {
   "cell_type": "code",
   "execution_count": 3,
   "metadata": {},
   "outputs": [
    {
     "data": {
      "text/html": [
       "<div>\n",
       "<style scoped>\n",
       "    .dataframe tbody tr th:only-of-type {\n",
       "        vertical-align: middle;\n",
       "    }\n",
       "\n",
       "    .dataframe tbody tr th {\n",
       "        vertical-align: top;\n",
       "    }\n",
       "\n",
       "    .dataframe thead th {\n",
       "        text-align: right;\n",
       "    }\n",
       "</style>\n",
       "<table border=\"1\" class=\"dataframe\">\n",
       "  <thead>\n",
       "    <tr style=\"text-align: right;\">\n",
       "      <th></th>\n",
       "      <th>Id</th>\n",
       "      <th>MSSubClass</th>\n",
       "      <th>MSZoning</th>\n",
       "      <th>LotFrontage</th>\n",
       "      <th>LotArea</th>\n",
       "      <th>Street</th>\n",
       "      <th>Alley</th>\n",
       "      <th>LotShape</th>\n",
       "      <th>LandContour</th>\n",
       "      <th>Utilities</th>\n",
       "      <th>...</th>\n",
       "      <th>PoolArea</th>\n",
       "      <th>PoolQC</th>\n",
       "      <th>Fence</th>\n",
       "      <th>MiscFeature</th>\n",
       "      <th>MiscVal</th>\n",
       "      <th>MoSold</th>\n",
       "      <th>YrSold</th>\n",
       "      <th>SaleType</th>\n",
       "      <th>SaleCondition</th>\n",
       "      <th>SalePrice</th>\n",
       "    </tr>\n",
       "  </thead>\n",
       "  <tbody>\n",
       "    <tr>\n",
       "      <th>0</th>\n",
       "      <td>1</td>\n",
       "      <td>60</td>\n",
       "      <td>RL</td>\n",
       "      <td>65.0</td>\n",
       "      <td>8450</td>\n",
       "      <td>Pave</td>\n",
       "      <td>NaN</td>\n",
       "      <td>Reg</td>\n",
       "      <td>Lvl</td>\n",
       "      <td>AllPub</td>\n",
       "      <td>...</td>\n",
       "      <td>0</td>\n",
       "      <td>NaN</td>\n",
       "      <td>NaN</td>\n",
       "      <td>NaN</td>\n",
       "      <td>0</td>\n",
       "      <td>2</td>\n",
       "      <td>2008</td>\n",
       "      <td>WD</td>\n",
       "      <td>Normal</td>\n",
       "      <td>208500</td>\n",
       "    </tr>\n",
       "    <tr>\n",
       "      <th>1</th>\n",
       "      <td>2</td>\n",
       "      <td>20</td>\n",
       "      <td>RL</td>\n",
       "      <td>80.0</td>\n",
       "      <td>9600</td>\n",
       "      <td>Pave</td>\n",
       "      <td>NaN</td>\n",
       "      <td>Reg</td>\n",
       "      <td>Lvl</td>\n",
       "      <td>AllPub</td>\n",
       "      <td>...</td>\n",
       "      <td>0</td>\n",
       "      <td>NaN</td>\n",
       "      <td>NaN</td>\n",
       "      <td>NaN</td>\n",
       "      <td>0</td>\n",
       "      <td>5</td>\n",
       "      <td>2007</td>\n",
       "      <td>WD</td>\n",
       "      <td>Normal</td>\n",
       "      <td>181500</td>\n",
       "    </tr>\n",
       "    <tr>\n",
       "      <th>2</th>\n",
       "      <td>3</td>\n",
       "      <td>60</td>\n",
       "      <td>RL</td>\n",
       "      <td>68.0</td>\n",
       "      <td>11250</td>\n",
       "      <td>Pave</td>\n",
       "      <td>NaN</td>\n",
       "      <td>IR1</td>\n",
       "      <td>Lvl</td>\n",
       "      <td>AllPub</td>\n",
       "      <td>...</td>\n",
       "      <td>0</td>\n",
       "      <td>NaN</td>\n",
       "      <td>NaN</td>\n",
       "      <td>NaN</td>\n",
       "      <td>0</td>\n",
       "      <td>9</td>\n",
       "      <td>2008</td>\n",
       "      <td>WD</td>\n",
       "      <td>Normal</td>\n",
       "      <td>223500</td>\n",
       "    </tr>\n",
       "    <tr>\n",
       "      <th>3</th>\n",
       "      <td>4</td>\n",
       "      <td>70</td>\n",
       "      <td>RL</td>\n",
       "      <td>60.0</td>\n",
       "      <td>9550</td>\n",
       "      <td>Pave</td>\n",
       "      <td>NaN</td>\n",
       "      <td>IR1</td>\n",
       "      <td>Lvl</td>\n",
       "      <td>AllPub</td>\n",
       "      <td>...</td>\n",
       "      <td>0</td>\n",
       "      <td>NaN</td>\n",
       "      <td>NaN</td>\n",
       "      <td>NaN</td>\n",
       "      <td>0</td>\n",
       "      <td>2</td>\n",
       "      <td>2006</td>\n",
       "      <td>WD</td>\n",
       "      <td>Abnorml</td>\n",
       "      <td>140000</td>\n",
       "    </tr>\n",
       "    <tr>\n",
       "      <th>4</th>\n",
       "      <td>5</td>\n",
       "      <td>60</td>\n",
       "      <td>RL</td>\n",
       "      <td>84.0</td>\n",
       "      <td>14260</td>\n",
       "      <td>Pave</td>\n",
       "      <td>NaN</td>\n",
       "      <td>IR1</td>\n",
       "      <td>Lvl</td>\n",
       "      <td>AllPub</td>\n",
       "      <td>...</td>\n",
       "      <td>0</td>\n",
       "      <td>NaN</td>\n",
       "      <td>NaN</td>\n",
       "      <td>NaN</td>\n",
       "      <td>0</td>\n",
       "      <td>12</td>\n",
       "      <td>2008</td>\n",
       "      <td>WD</td>\n",
       "      <td>Normal</td>\n",
       "      <td>250000</td>\n",
       "    </tr>\n",
       "  </tbody>\n",
       "</table>\n",
       "<p>5 rows × 81 columns</p>\n",
       "</div>"
      ],
      "text/plain": [
       "   Id  MSSubClass MSZoning  LotFrontage  LotArea Street Alley LotShape  \\\n",
       "0   1          60       RL         65.0     8450   Pave   NaN      Reg   \n",
       "1   2          20       RL         80.0     9600   Pave   NaN      Reg   \n",
       "2   3          60       RL         68.0    11250   Pave   NaN      IR1   \n",
       "3   4          70       RL         60.0     9550   Pave   NaN      IR1   \n",
       "4   5          60       RL         84.0    14260   Pave   NaN      IR1   \n",
       "\n",
       "  LandContour Utilities  ... PoolArea PoolQC Fence MiscFeature MiscVal MoSold  \\\n",
       "0         Lvl    AllPub  ...        0    NaN   NaN         NaN       0      2   \n",
       "1         Lvl    AllPub  ...        0    NaN   NaN         NaN       0      5   \n",
       "2         Lvl    AllPub  ...        0    NaN   NaN         NaN       0      9   \n",
       "3         Lvl    AllPub  ...        0    NaN   NaN         NaN       0      2   \n",
       "4         Lvl    AllPub  ...        0    NaN   NaN         NaN       0     12   \n",
       "\n",
       "  YrSold  SaleType  SaleCondition  SalePrice  \n",
       "0   2008        WD         Normal     208500  \n",
       "1   2007        WD         Normal     181500  \n",
       "2   2008        WD         Normal     223500  \n",
       "3   2006        WD        Abnorml     140000  \n",
       "4   2008        WD         Normal     250000  \n",
       "\n",
       "[5 rows x 81 columns]"
      ]
     },
     "execution_count": 3,
     "metadata": {},
     "output_type": "execute_result"
    }
   ],
   "source": [
    "train_data.head()"
   ]
  },
  {
   "cell_type": "code",
   "execution_count": 4,
   "metadata": {},
   "outputs": [
    {
     "data": {
      "text/plain": [
       "(1460, 81)"
      ]
     },
     "execution_count": 4,
     "metadata": {},
     "output_type": "execute_result"
    }
   ],
   "source": [
    "train_data.shape"
   ]
  },
  {
   "cell_type": "code",
   "execution_count": 5,
   "metadata": {},
   "outputs": [],
   "source": [
    "train_data = train_data.drop(['Alley'],axis = 1)\n",
    "train_data = train_data.drop(['PoolQC'],axis = 1)\n",
    "train_data = train_data.drop(['Fence'],axis = 1)\n",
    "train_data = train_data.drop(['MiscFeature'],axis = 1)\n",
    "train_data = train_data.drop(['FireplaceQu'],axis = 1)\n",
    "train_data = train_data.fillna({\"LotFrontage\": round(np.mean(train_data['LotFrontage']))})\n",
    "train_data = train_data.fillna({\"MasVnrType\": \"RL\"})\n",
    "train_data = train_data.fillna({\"MasVnrArea\": round(np.mean(train_data['MasVnrArea']))})\n",
    "train_data = train_data.fillna({\"BsmtQual\": \"TA\"})\n",
    "train_data = train_data.fillna({\"BsmtCond\": \"TA\"})\n",
    "train_data = train_data.fillna({\"BsmtExposure\": \"No\"})\n",
    "train_data = train_data.fillna({\"BsmtFinType1\": \"Unf\"})\n",
    "train_data = train_data.fillna({\"BsmtFinType2\": \"Unf\"})\n",
    "train_data = train_data.fillna({\"Electrical\": \"SBrkr\"})\n",
    "train_data = train_data.fillna({\"GarageType\": \"Attchd\"})\n",
    "train_data = train_data.fillna({\"GarageYrBlt\": round(np.mean(train_data['GarageYrBlt']))})\n",
    "train_data = train_data.fillna({\"GarageFinish\": \"Unf\"})\n",
    "train_data = train_data.fillna({\"GarageQual\": \"TA\"})\n",
    "train_data = train_data.fillna({\"GarageCond\": \"TA\"})"
   ]
  },
  {
   "cell_type": "code",
   "execution_count": 6,
   "metadata": {},
   "outputs": [],
   "source": [
    "X = train_data.iloc[:,0:-1].values\n",
    "y = train_data.iloc[:,-1].values"
   ]
  },
  {
   "cell_type": "code",
   "execution_count": 7,
   "metadata": {},
   "outputs": [],
   "source": [
    "from sklearn.preprocessing import LabelEncoder\n",
    "labelencoder_X = LabelEncoder()\n",
    "X[:,2] = labelencoder_X.fit_transform(X[:,2])\n",
    "labelencoder_X_2 = LabelEncoder()\n",
    "X[:,5] = labelencoder_X_2.fit_transform(X[:,5])\n",
    "labelencoder_X_3 = LabelEncoder()\n",
    "X[:,6] = labelencoder_X_3.fit_transform(X[:,6])\n",
    "labelencoder_X_4 = LabelEncoder()\n",
    "X[:,7] = labelencoder_X_4.fit_transform(X[:,7])\n",
    "labelencoder_X_5 = LabelEncoder()\n",
    "X[:,8] = labelencoder_X_5.fit_transform(X[:,8])\n",
    "labelencoder_X_6 = LabelEncoder()\n",
    "X[:,9] = labelencoder_X_6.fit_transform(X[:,9])\n",
    "labelencoder_X_7 = LabelEncoder()\n",
    "X[:,10] = labelencoder_X_7.fit_transform(X[:,10])\n",
    "labelencoder_X_8 = LabelEncoder()\n",
    "X[:,11] = labelencoder_X_8.fit_transform(X[:,11])\n",
    "labelencoder_X_9 = LabelEncoder()\n",
    "X[:,12] = labelencoder_X_9.fit_transform(X[:,12])\n",
    "labelencoder_X_10 = LabelEncoder()\n",
    "X[:,13] = labelencoder_X_10.fit_transform(X[:,13])\n",
    "labelencoder_X_11 = LabelEncoder()\n",
    "X[:,14] = labelencoder_X_11.fit_transform(X[:,14])\n",
    "labelencoder_X_12 = LabelEncoder()\n",
    "X[:,15] = labelencoder_X_12.fit_transform(X[:,15])\n",
    "labelencoder_X_13 = LabelEncoder()\n",
    "X[:,20] = labelencoder_X_13.fit_transform(X[:,20])\n",
    "labelencoder_X_14 = LabelEncoder()\n",
    "X[:,21] = labelencoder_X_14.fit_transform(X[:,21])\n",
    "labelencoder_X_15 = LabelEncoder()\n",
    "X[:,22] = labelencoder_X_15.fit_transform(X[:,22])\n",
    "labelencoder_X_16 = LabelEncoder()\n",
    "X[:,23] = labelencoder_X_16.fit_transform(X[:,23])\n",
    "labelencoder_X_17 = LabelEncoder()\n",
    "X[:,24] = labelencoder_X_17.fit_transform(X[:,24])\n",
    "labelencoder_X_18 = LabelEncoder()\n",
    "X[:,26] = labelencoder_X_18.fit_transform(X[:,26])\n",
    "labelencoder_X_19 = LabelEncoder()\n",
    "X[:,27] = labelencoder_X_19.fit_transform(X[:,27])\n",
    "labelencoder_X_20 = LabelEncoder()\n",
    "X[:,28] = labelencoder_X_20.fit_transform(X[:,28])\n",
    "labelencoder_X_21 = LabelEncoder()\n",
    "X[:,29] = labelencoder_X_21.fit_transform(X[:,29])\n",
    "labelencoder_X_22 = LabelEncoder()\n",
    "X[:,30] = labelencoder_X_22.fit_transform(X[:,30])\n",
    "labelencoder_X_23 = LabelEncoder()\n",
    "X[:,31] = labelencoder_X_23.fit_transform(X[:,31])\n",
    "labelencoder_X_24 = LabelEncoder()\n",
    "X[:,32] = labelencoder_X_24.fit_transform(X[:,32])\n",
    "labelencoder_X_25 = LabelEncoder()\n",
    "X[:,34] = labelencoder_X_25.fit_transform(X[:,34])\n",
    "labelencoder_X_26 = LabelEncoder()\n",
    "X[:,38] = labelencoder_X_26.fit_transform(X[:,38])\n",
    "labelencoder_X_27 = LabelEncoder()\n",
    "X[:,39] = labelencoder_X_27.fit_transform(X[:,39])\n",
    "labelencoder_X_28 = LabelEncoder()\n",
    "X[:,40] = labelencoder_X_28.fit_transform(X[:,40])\n",
    "labelencoder_X_29 = LabelEncoder()\n",
    "X[:,41] = labelencoder_X_29.fit_transform(X[:,41])\n",
    "labelencoder_X_30 = LabelEncoder()\n",
    "X[:,52] = labelencoder_X_30.fit_transform(X[:,52])\n",
    "labelencoder_X_31 = LabelEncoder()\n",
    "X[:,54] = labelencoder_X_31.fit_transform(X[:,54])\n",
    "labelencoder_X_32 = LabelEncoder()\n",
    "X[:,56] = labelencoder_X_32.fit_transform(X[:,56])\n",
    "labelencoder_X_33 = LabelEncoder()\n",
    "X[:,58] = labelencoder_X_33.fit_transform(X[:,58])\n",
    "labelencoder_X_34 = LabelEncoder()\n",
    "X[:,61] = labelencoder_X_34.fit_transform(X[:,61])\n",
    "labelencoder_X_35 = LabelEncoder()\n",
    "X[:,62] = labelencoder_X_35.fit_transform(X[:,62])\n",
    "labelencoder_X_36 = LabelEncoder()\n",
    "X[:,63] = labelencoder_X_36.fit_transform(X[:,63])\n",
    "labelencoder_X_37 = LabelEncoder()\n",
    "X[:,73] = labelencoder_X_37.fit_transform(X[:,73])\n",
    "labelencoder_X_38 = LabelEncoder()\n",
    "X[:,74] = labelencoder_X_38.fit_transform(X[:,74])"
   ]
  },
  {
   "cell_type": "code",
   "execution_count": 8,
   "metadata": {},
   "outputs": [
    {
     "data": {
      "text/plain": [
       "array([[1, 60, 3, ..., 2008, 8, 4],\n",
       "       [2, 20, 3, ..., 2007, 8, 4],\n",
       "       [3, 60, 3, ..., 2008, 8, 4],\n",
       "       ...,\n",
       "       [1458, 70, 3, ..., 2010, 8, 4],\n",
       "       [1459, 20, 3, ..., 2010, 8, 4],\n",
       "       [1460, 20, 3, ..., 2008, 8, 4]], dtype=object)"
      ]
     },
     "execution_count": 8,
     "metadata": {},
     "output_type": "execute_result"
    }
   ],
   "source": [
    "X"
   ]
  },
  {
   "cell_type": "code",
   "execution_count": 9,
   "metadata": {},
   "outputs": [
    {
     "data": {
      "text/plain": [
       "array([1, 60, 3, 65.0, 8450, 1, 3, 3, 0, 4, 0, 5, 2, 2, 0, 5, 7, 5, 2003,\n",
       "       2003, 1, 1, 12, 13, 1, 196.0, 2, 4, 2, 2, 3, 3, 2, 706, 5, 0, 150,\n",
       "       856, 1, 0, 1, 4, 856, 854, 0, 1710, 1, 0, 2, 1, 3, 1, 2, 8, 6, 0,\n",
       "       1, 2003.0, 1, 2, 548, 4, 4, 2, 0, 61, 0, 0, 0, 0, 0, 2, 2008, 8, 4],\n",
       "      dtype=object)"
      ]
     },
     "execution_count": 9,
     "metadata": {},
     "output_type": "execute_result"
    }
   ],
   "source": [
    "X[0]"
   ]
  },
  {
   "cell_type": "code",
   "execution_count": 10,
   "metadata": {},
   "outputs": [],
   "source": [
    "from sklearn.model_selection import train_test_split"
   ]
  },
  {
   "cell_type": "code",
   "execution_count": 11,
   "metadata": {},
   "outputs": [
    {
     "data": {
      "text/plain": [
       "(1460, 75)"
      ]
     },
     "execution_count": 11,
     "metadata": {},
     "output_type": "execute_result"
    }
   ],
   "source": [
    "X.shape"
   ]
  },
  {
   "cell_type": "code",
   "execution_count": 12,
   "metadata": {},
   "outputs": [
    {
     "data": {
      "text/plain": [
       "array([208500, 181500, 223500, ..., 266500, 142125, 147500], dtype=int64)"
      ]
     },
     "execution_count": 12,
     "metadata": {},
     "output_type": "execute_result"
    }
   ],
   "source": [
    "y"
   ]
  },
  {
   "cell_type": "code",
   "execution_count": null,
   "metadata": {},
   "outputs": [],
   "source": []
  },
  {
   "cell_type": "code",
   "execution_count": 13,
   "metadata": {},
   "outputs": [],
   "source": [
    "x_train,x_test,y_train,y_test = train_test_split(X,y,test_size=0.05)"
   ]
  },
  {
   "cell_type": "code",
   "execution_count": 14,
   "metadata": {},
   "outputs": [
    {
     "data": {
      "text/plain": [
       "(1387, 75)"
      ]
     },
     "execution_count": 14,
     "metadata": {},
     "output_type": "execute_result"
    }
   ],
   "source": [
    "x_train.shape"
   ]
  },
  {
   "cell_type": "code",
   "execution_count": 15,
   "metadata": {},
   "outputs": [],
   "source": [
    "from sklearn.linear_model import LinearRegression"
   ]
  },
  {
   "cell_type": "code",
   "execution_count": 16,
   "metadata": {},
   "outputs": [
    {
     "data": {
      "text/plain": [
       "LinearRegression(copy_X=True, fit_intercept=True, n_jobs=None,\n",
       "         normalize=False)"
      ]
     },
     "execution_count": 16,
     "metadata": {},
     "output_type": "execute_result"
    }
   ],
   "source": [
    "reg = LinearRegression()\n",
    "reg.fit(x_train, y_train)"
   ]
  },
  {
   "cell_type": "code",
   "execution_count": 17,
   "metadata": {},
   "outputs": [],
   "source": [
    "y_pred = reg.predict(x_test)"
   ]
  },
  {
   "cell_type": "code",
   "execution_count": 18,
   "metadata": {},
   "outputs": [],
   "source": [
    "from sklearn.metrics import mean_squared_error"
   ]
  },
  {
   "cell_type": "code",
   "execution_count": 19,
   "metadata": {},
   "outputs": [
    {
     "data": {
      "text/plain": [
       "575243493.4116373"
      ]
     },
     "execution_count": 19,
     "metadata": {},
     "output_type": "execute_result"
    }
   ],
   "source": [
    "mean_squared_error(y_test, y_pred)"
   ]
  },
  {
   "cell_type": "code",
   "execution_count": null,
   "metadata": {},
   "outputs": [],
   "source": []
  },
  {
   "cell_type": "code",
   "execution_count": null,
   "metadata": {},
   "outputs": [],
   "source": []
  },
  {
   "cell_type": "code",
   "execution_count": 20,
   "metadata": {},
   "outputs": [
    {
     "data": {
      "text/html": [
       "<div>\n",
       "<style scoped>\n",
       "    .dataframe tbody tr th:only-of-type {\n",
       "        vertical-align: middle;\n",
       "    }\n",
       "\n",
       "    .dataframe tbody tr th {\n",
       "        vertical-align: top;\n",
       "    }\n",
       "\n",
       "    .dataframe thead th {\n",
       "        text-align: right;\n",
       "    }\n",
       "</style>\n",
       "<table border=\"1\" class=\"dataframe\">\n",
       "  <thead>\n",
       "    <tr style=\"text-align: right;\">\n",
       "      <th></th>\n",
       "      <th>Id</th>\n",
       "      <th>MSSubClass</th>\n",
       "      <th>MSZoning</th>\n",
       "      <th>LotFrontage</th>\n",
       "      <th>LotArea</th>\n",
       "      <th>Street</th>\n",
       "      <th>Alley</th>\n",
       "      <th>LotShape</th>\n",
       "      <th>LandContour</th>\n",
       "      <th>Utilities</th>\n",
       "      <th>...</th>\n",
       "      <th>ScreenPorch</th>\n",
       "      <th>PoolArea</th>\n",
       "      <th>PoolQC</th>\n",
       "      <th>Fence</th>\n",
       "      <th>MiscFeature</th>\n",
       "      <th>MiscVal</th>\n",
       "      <th>MoSold</th>\n",
       "      <th>YrSold</th>\n",
       "      <th>SaleType</th>\n",
       "      <th>SaleCondition</th>\n",
       "    </tr>\n",
       "  </thead>\n",
       "  <tbody>\n",
       "    <tr>\n",
       "      <th>0</th>\n",
       "      <td>1461</td>\n",
       "      <td>20</td>\n",
       "      <td>RH</td>\n",
       "      <td>80.0</td>\n",
       "      <td>11622</td>\n",
       "      <td>Pave</td>\n",
       "      <td>NaN</td>\n",
       "      <td>Reg</td>\n",
       "      <td>Lvl</td>\n",
       "      <td>AllPub</td>\n",
       "      <td>...</td>\n",
       "      <td>120</td>\n",
       "      <td>0</td>\n",
       "      <td>NaN</td>\n",
       "      <td>MnPrv</td>\n",
       "      <td>NaN</td>\n",
       "      <td>0</td>\n",
       "      <td>6</td>\n",
       "      <td>2010</td>\n",
       "      <td>WD</td>\n",
       "      <td>Normal</td>\n",
       "    </tr>\n",
       "    <tr>\n",
       "      <th>1</th>\n",
       "      <td>1462</td>\n",
       "      <td>20</td>\n",
       "      <td>RL</td>\n",
       "      <td>81.0</td>\n",
       "      <td>14267</td>\n",
       "      <td>Pave</td>\n",
       "      <td>NaN</td>\n",
       "      <td>IR1</td>\n",
       "      <td>Lvl</td>\n",
       "      <td>AllPub</td>\n",
       "      <td>...</td>\n",
       "      <td>0</td>\n",
       "      <td>0</td>\n",
       "      <td>NaN</td>\n",
       "      <td>NaN</td>\n",
       "      <td>Gar2</td>\n",
       "      <td>12500</td>\n",
       "      <td>6</td>\n",
       "      <td>2010</td>\n",
       "      <td>WD</td>\n",
       "      <td>Normal</td>\n",
       "    </tr>\n",
       "    <tr>\n",
       "      <th>2</th>\n",
       "      <td>1463</td>\n",
       "      <td>60</td>\n",
       "      <td>RL</td>\n",
       "      <td>74.0</td>\n",
       "      <td>13830</td>\n",
       "      <td>Pave</td>\n",
       "      <td>NaN</td>\n",
       "      <td>IR1</td>\n",
       "      <td>Lvl</td>\n",
       "      <td>AllPub</td>\n",
       "      <td>...</td>\n",
       "      <td>0</td>\n",
       "      <td>0</td>\n",
       "      <td>NaN</td>\n",
       "      <td>MnPrv</td>\n",
       "      <td>NaN</td>\n",
       "      <td>0</td>\n",
       "      <td>3</td>\n",
       "      <td>2010</td>\n",
       "      <td>WD</td>\n",
       "      <td>Normal</td>\n",
       "    </tr>\n",
       "    <tr>\n",
       "      <th>3</th>\n",
       "      <td>1464</td>\n",
       "      <td>60</td>\n",
       "      <td>RL</td>\n",
       "      <td>78.0</td>\n",
       "      <td>9978</td>\n",
       "      <td>Pave</td>\n",
       "      <td>NaN</td>\n",
       "      <td>IR1</td>\n",
       "      <td>Lvl</td>\n",
       "      <td>AllPub</td>\n",
       "      <td>...</td>\n",
       "      <td>0</td>\n",
       "      <td>0</td>\n",
       "      <td>NaN</td>\n",
       "      <td>NaN</td>\n",
       "      <td>NaN</td>\n",
       "      <td>0</td>\n",
       "      <td>6</td>\n",
       "      <td>2010</td>\n",
       "      <td>WD</td>\n",
       "      <td>Normal</td>\n",
       "    </tr>\n",
       "    <tr>\n",
       "      <th>4</th>\n",
       "      <td>1465</td>\n",
       "      <td>120</td>\n",
       "      <td>RL</td>\n",
       "      <td>43.0</td>\n",
       "      <td>5005</td>\n",
       "      <td>Pave</td>\n",
       "      <td>NaN</td>\n",
       "      <td>IR1</td>\n",
       "      <td>HLS</td>\n",
       "      <td>AllPub</td>\n",
       "      <td>...</td>\n",
       "      <td>144</td>\n",
       "      <td>0</td>\n",
       "      <td>NaN</td>\n",
       "      <td>NaN</td>\n",
       "      <td>NaN</td>\n",
       "      <td>0</td>\n",
       "      <td>1</td>\n",
       "      <td>2010</td>\n",
       "      <td>WD</td>\n",
       "      <td>Normal</td>\n",
       "    </tr>\n",
       "  </tbody>\n",
       "</table>\n",
       "<p>5 rows × 80 columns</p>\n",
       "</div>"
      ],
      "text/plain": [
       "     Id  MSSubClass MSZoning  LotFrontage  LotArea Street Alley LotShape  \\\n",
       "0  1461          20       RH         80.0    11622   Pave   NaN      Reg   \n",
       "1  1462          20       RL         81.0    14267   Pave   NaN      IR1   \n",
       "2  1463          60       RL         74.0    13830   Pave   NaN      IR1   \n",
       "3  1464          60       RL         78.0     9978   Pave   NaN      IR1   \n",
       "4  1465         120       RL         43.0     5005   Pave   NaN      IR1   \n",
       "\n",
       "  LandContour Utilities  ... ScreenPorch PoolArea PoolQC  Fence MiscFeature  \\\n",
       "0         Lvl    AllPub  ...         120        0    NaN  MnPrv         NaN   \n",
       "1         Lvl    AllPub  ...           0        0    NaN    NaN        Gar2   \n",
       "2         Lvl    AllPub  ...           0        0    NaN  MnPrv         NaN   \n",
       "3         Lvl    AllPub  ...           0        0    NaN    NaN         NaN   \n",
       "4         HLS    AllPub  ...         144        0    NaN    NaN         NaN   \n",
       "\n",
       "  MiscVal MoSold  YrSold  SaleType  SaleCondition  \n",
       "0       0      6    2010        WD         Normal  \n",
       "1   12500      6    2010        WD         Normal  \n",
       "2       0      3    2010        WD         Normal  \n",
       "3       0      6    2010        WD         Normal  \n",
       "4       0      1    2010        WD         Normal  \n",
       "\n",
       "[5 rows x 80 columns]"
      ]
     },
     "execution_count": 20,
     "metadata": {},
     "output_type": "execute_result"
    }
   ],
   "source": [
    "test_data.head()"
   ]
  },
  {
   "cell_type": "code",
   "execution_count": 21,
   "metadata": {},
   "outputs": [],
   "source": [
    "test_data = test_data.drop(['Alley'],axis = 1)\n",
    "test_data = test_data.drop(['PoolQC'],axis = 1)\n",
    "test_data = test_data.drop(['Fence'],axis = 1)\n",
    "test_data = test_data.drop(['MiscFeature'],axis = 1)\n",
    "test_data = test_data.drop(['FireplaceQu'],axis = 1)\n",
    "test_data = test_data.fillna({\"LotFrontage\": round(np.mean(test_data['LotFrontage']))})\n",
    "test_data = test_data.fillna({\"MSZoning\": \"RL\"})\n",
    "test_data = test_data.fillna({\"Utilities\": \"AllPub\"})\n",
    "test_data = test_data.fillna({\"Exterior1st\": \"VinylSd\"})\n",
    "test_data = test_data.fillna({\"Exterior2nd\": \"VinylSd\"})\n",
    "test_data = test_data.fillna({\"MasVnrType\": \"RL\"})\n",
    "test_data = test_data.fillna({\"MasVnrArea\": round(np.mean(test_data['MasVnrArea']))})\n",
    "test_data = test_data.fillna({\"BsmtQual\": \"TA\"})\n",
    "test_data = test_data.fillna({\"BsmtCond\": \"TA\"})\n",
    "test_data = test_data.fillna({\"BsmtExposure\": \"No\"})\n",
    "test_data = test_data.fillna({\"BsmtFinType1\": \"GLQ\"})\n",
    "test_data = test_data.fillna({\"BsmtFinType2\": \"Unf\"})\n",
    "test_data = test_data.fillna({\"BsmtFinSF1\": round(np.mean(test_data['BsmtFinSF1']))})\n",
    "test_data = test_data.fillna({\"BsmtFinSF2\": round(np.mean(test_data['BsmtFinSF2']))})\n",
    "test_data = test_data.fillna({\"BsmtUnfSF\": round(np.mean(test_data['BsmtUnfSF']))})\n",
    "test_data = test_data.fillna({\"TotalBsmtSF\": round(np.mean(test_data['TotalBsmtSF']))})\n",
    "test_data = test_data.fillna({\"BsmtFullBath\": round(np.mean(test_data['BsmtFullBath']))})\n",
    "test_data = test_data.fillna({\"BsmtHalfBath\": round(np.mean(test_data['BsmtHalfBath']))})\n",
    "test_data = test_data.fillna({\"KitchenQual\": \"TA\"})\n",
    "test_data = test_data.fillna({\"Functional\": \"Typ\"})\n",
    "test_data = test_data.fillna({\"GarageType\": \"Attchd\"})\n",
    "test_data = test_data.fillna({\"GarageYrBlt\": round(np.mean(test_data['GarageYrBlt']))})\n",
    "test_data = test_data.fillna({\"GarageFinish\": \"Unf\"})\n",
    "test_data = test_data.fillna({\"GarageCars\": round(np.mean(test_data['GarageCars']))})\n",
    "test_data = test_data.fillna({\"GarageArea\": round(np.mean(test_data['GarageArea']))})\n",
    "test_data = test_data.fillna({\"GarageQual\": \"TA\"})\n",
    "test_data = test_data.fillna({\"GarageCond\": \"TA\"})\n",
    "test_data = test_data.fillna({\"SaleType\": \"WD\"})"
   ]
  },
  {
   "cell_type": "code",
   "execution_count": 22,
   "metadata": {},
   "outputs": [],
   "source": [
    "X2 = test_data.iloc[:,:].values"
   ]
  },
  {
   "cell_type": "code",
   "execution_count": 23,
   "metadata": {},
   "outputs": [],
   "source": [
    "from sklearn.preprocessing import LabelEncoder\n",
    "labelencoder_X = LabelEncoder()\n",
    "X2[:,2] = labelencoder_X.fit_transform(X2[:,2])\n",
    "labelencoder_X_2 = LabelEncoder()\n",
    "X2[:,5] = labelencoder_X_2.fit_transform(X2[:,5])\n",
    "labelencoder_X_3 = LabelEncoder()\n",
    "X2[:,6] = labelencoder_X_3.fit_transform(X2[:,6])\n",
    "labelencoder_X_4 = LabelEncoder()\n",
    "X2[:,7] = labelencoder_X_4.fit_transform(X2[:,7])\n",
    "labelencoder_X_5 = LabelEncoder()\n",
    "X2[:,8] = labelencoder_X_5.fit_transform(X2[:,8])\n",
    "labelencoder_X_6 = LabelEncoder()\n",
    "X2[:,9] = labelencoder_X_6.fit_transform(X2[:,9])\n",
    "labelencoder_X_7 = LabelEncoder()\n",
    "X2[:,10] = labelencoder_X_7.fit_transform(X2[:,10])\n",
    "labelencoder_X_8 = LabelEncoder()\n",
    "X2[:,11] = labelencoder_X_8.fit_transform(X2[:,11])\n",
    "labelencoder_X_9 = LabelEncoder()\n",
    "X2[:,12] = labelencoder_X_9.fit_transform(X2[:,12])\n",
    "labelencoder_X_10 = LabelEncoder()\n",
    "X2[:,13] = labelencoder_X_10.fit_transform(X2[:,13])\n",
    "labelencoder_X_11 = LabelEncoder()\n",
    "X2[:,14] = labelencoder_X_11.fit_transform(X2[:,14])\n",
    "labelencoder_X_12 = LabelEncoder()\n",
    "X2[:,15] = labelencoder_X_12.fit_transform(X2[:,15])\n",
    "labelencoder_X_13 = LabelEncoder()\n",
    "X2[:,20] = labelencoder_X_13.fit_transform(X2[:,20])\n",
    "labelencoder_X_14 = LabelEncoder()\n",
    "X2[:,21] = labelencoder_X_14.fit_transform(X2[:,21])\n",
    "labelencoder_X_15 = LabelEncoder()\n",
    "X2[:,22] = labelencoder_X_15.fit_transform(X2[:,22])\n",
    "labelencoder_X_16 = LabelEncoder()\n",
    "X2[:,23] = labelencoder_X_16.fit_transform(X2[:,23])\n",
    "labelencoder_X_17 = LabelEncoder()\n",
    "X2[:,24] = labelencoder_X_17.fit_transform(X2[:,24])\n",
    "labelencoder_X_18 = LabelEncoder()\n",
    "X2[:,26] = labelencoder_X_18.fit_transform(X2[:,26])\n",
    "labelencoder_X_19 = LabelEncoder()\n",
    "X2[:,27] = labelencoder_X_19.fit_transform(X2[:,27])\n",
    "labelencoder_X_20 = LabelEncoder()\n",
    "X2[:,28] = labelencoder_X_20.fit_transform(X2[:,28])\n",
    "labelencoder_X_21 = LabelEncoder()\n",
    "X2[:,29] = labelencoder_X_21.fit_transform(X2[:,29])\n",
    "labelencoder_X_22 = LabelEncoder()\n",
    "X2[:,30] = labelencoder_X_22.fit_transform(X2[:,30])\n",
    "labelencoder_X_23 = LabelEncoder()\n",
    "X2[:,31] = labelencoder_X_23.fit_transform(X2[:,31])\n",
    "labelencoder_X_24 = LabelEncoder()\n",
    "X2[:,32] = labelencoder_X_24.fit_transform(X2[:,32])\n",
    "labelencoder_X_25 = LabelEncoder()\n",
    "X2[:,34] = labelencoder_X_25.fit_transform(X2[:,34])\n",
    "labelencoder_X_26 = LabelEncoder()\n",
    "X2[:,38] = labelencoder_X_26.fit_transform(X2[:,38])\n",
    "labelencoder_X_27 = LabelEncoder()\n",
    "X2[:,39] = labelencoder_X_27.fit_transform(X2[:,39])\n",
    "labelencoder_X_28 = LabelEncoder()\n",
    "X2[:,40] = labelencoder_X_28.fit_transform(X2[:,40])\n",
    "labelencoder_X_29 = LabelEncoder()\n",
    "X2[:,41] = labelencoder_X_29.fit_transform(X2[:,41])\n",
    "labelencoder_X_30 = LabelEncoder()\n",
    "X2[:,52] = labelencoder_X_30.fit_transform(X2[:,52])\n",
    "labelencoder_X_31 = LabelEncoder()\n",
    "X2[:,54] = labelencoder_X_31.fit_transform(X2[:,54])\n",
    "labelencoder_X_32 = LabelEncoder()\n",
    "X2[:,56] = labelencoder_X_32.fit_transform(X2[:,56])\n",
    "labelencoder_X_33 = LabelEncoder()\n",
    "X2[:,58] = labelencoder_X_33.fit_transform(X2[:,58])\n",
    "labelencoder_X_34 = LabelEncoder()\n",
    "X2[:,61] = labelencoder_X_34.fit_transform(X2[:,61])\n",
    "labelencoder_X_35 = LabelEncoder()\n",
    "X2[:,62] = labelencoder_X_35.fit_transform(X2[:,62])\n",
    "labelencoder_X_36 = LabelEncoder()\n",
    "X2[:,63] = labelencoder_X_36.fit_transform(X2[:,63])\n",
    "labelencoder_X_37 = LabelEncoder()\n",
    "X2[:,73] = labelencoder_X_37.fit_transform(X2[:,73])\n",
    "labelencoder_X_38 = LabelEncoder()\n",
    "X2[:,74] = labelencoder_X_38.fit_transform(X2[:,74])"
   ]
  },
  {
   "cell_type": "code",
   "execution_count": 24,
   "metadata": {},
   "outputs": [
    {
     "data": {
      "text/plain": [
       "array([[1461, 20, 2, ..., 2010, 8, 4],\n",
       "       [1462, 20, 3, ..., 2010, 8, 4],\n",
       "       [1463, 60, 3, ..., 2010, 8, 4],\n",
       "       ...,\n",
       "       [2917, 20, 3, ..., 2006, 8, 0],\n",
       "       [2918, 85, 3, ..., 2006, 8, 4],\n",
       "       [2919, 60, 3, ..., 2006, 8, 4]], dtype=object)"
      ]
     },
     "execution_count": 24,
     "metadata": {},
     "output_type": "execute_result"
    }
   ],
   "source": [
    "X2"
   ]
  },
  {
   "cell_type": "code",
   "execution_count": 25,
   "metadata": {},
   "outputs": [],
   "source": [
    "y_pred2 = reg.predict(X2)"
   ]
  },
  {
   "cell_type": "code",
   "execution_count": 26,
   "metadata": {},
   "outputs": [
    {
     "data": {
      "text/plain": [
       "(1459,)"
      ]
     },
     "execution_count": 26,
     "metadata": {},
     "output_type": "execute_result"
    }
   ],
   "source": [
    "y_pred2.shape"
   ]
  },
  {
   "cell_type": "code",
   "execution_count": 27,
   "metadata": {},
   "outputs": [
    {
     "data": {
      "text/plain": [
       "array([105876.86031685, 148193.23881705, 166347.03516145, ...,\n",
       "       137514.98578235, 110674.57836782, 240424.01747016])"
      ]
     },
     "execution_count": 27,
     "metadata": {},
     "output_type": "execute_result"
    }
   ],
   "source": [
    "y_pred2"
   ]
  },
  {
   "cell_type": "code",
   "execution_count": 28,
   "metadata": {},
   "outputs": [],
   "source": [
    "submit = pd.DataFrame()\n",
    "submit['Id'] = test_data['Id'].values\n",
    "submit['SalePrice'] = y_pred2.round()"
   ]
  },
  {
   "cell_type": "code",
   "execution_count": 29,
   "metadata": {},
   "outputs": [
    {
     "data": {
      "text/html": [
       "<div>\n",
       "<style scoped>\n",
       "    .dataframe tbody tr th:only-of-type {\n",
       "        vertical-align: middle;\n",
       "    }\n",
       "\n",
       "    .dataframe tbody tr th {\n",
       "        vertical-align: top;\n",
       "    }\n",
       "\n",
       "    .dataframe thead th {\n",
       "        text-align: right;\n",
       "    }\n",
       "</style>\n",
       "<table border=\"1\" class=\"dataframe\">\n",
       "  <thead>\n",
       "    <tr style=\"text-align: right;\">\n",
       "      <th></th>\n",
       "      <th>Id</th>\n",
       "      <th>SalePrice</th>\n",
       "    </tr>\n",
       "  </thead>\n",
       "  <tbody>\n",
       "    <tr>\n",
       "      <th>0</th>\n",
       "      <td>1461</td>\n",
       "      <td>105877.0</td>\n",
       "    </tr>\n",
       "    <tr>\n",
       "      <th>1</th>\n",
       "      <td>1462</td>\n",
       "      <td>148193.0</td>\n",
       "    </tr>\n",
       "    <tr>\n",
       "      <th>2</th>\n",
       "      <td>1463</td>\n",
       "      <td>166347.0</td>\n",
       "    </tr>\n",
       "    <tr>\n",
       "      <th>3</th>\n",
       "      <td>1464</td>\n",
       "      <td>181328.0</td>\n",
       "    </tr>\n",
       "    <tr>\n",
       "      <th>4</th>\n",
       "      <td>1465</td>\n",
       "      <td>186896.0</td>\n",
       "    </tr>\n",
       "  </tbody>\n",
       "</table>\n",
       "</div>"
      ],
      "text/plain": [
       "     Id  SalePrice\n",
       "0  1461   105877.0\n",
       "1  1462   148193.0\n",
       "2  1463   166347.0\n",
       "3  1464   181328.0\n",
       "4  1465   186896.0"
      ]
     },
     "execution_count": 29,
     "metadata": {},
     "output_type": "execute_result"
    }
   ],
   "source": [
    "submit.head()"
   ]
  },
  {
   "cell_type": "code",
   "execution_count": 30,
   "metadata": {},
   "outputs": [],
   "source": [
    "submit_file = submit.to_csv('submissionWFS.csv', index = False)"
   ]
  },
  {
   "cell_type": "code",
   "execution_count": null,
   "metadata": {},
   "outputs": [],
   "source": []
  }
 ],
 "metadata": {
  "kernelspec": {
   "display_name": "Python 3",
   "language": "python",
   "name": "python3"
  },
  "language_info": {
   "codemirror_mode": {
    "name": "ipython",
    "version": 3
   },
   "file_extension": ".py",
   "mimetype": "text/x-python",
   "name": "python",
   "nbconvert_exporter": "python",
   "pygments_lexer": "ipython3",
   "version": "3.7.3"
  }
 },
 "nbformat": 4,
 "nbformat_minor": 2
}
